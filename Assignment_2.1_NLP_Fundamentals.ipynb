{
 "cells": [
  {
   "cell_type": "code",
   "execution_count": 1,
   "id": "27f1161f",
   "metadata": {},
   "outputs": [],
   "source": [
    "import spacy\n",
    "import pandas as pd"
   ]
  },
  {
   "cell_type": "code",
   "execution_count": 2,
   "id": "a0830daf",
   "metadata": {},
   "outputs": [],
   "source": [
    "nlp = spacy.load('en_core_web_sm')"
   ]
  },
  {
   "cell_type": "markdown",
   "id": "327561e4",
   "metadata": {},
   "source": [
    "#### 1. Create a Doc object from the file owlcreek.txt "
   ]
  },
  {
   "cell_type": "code",
   "execution_count": 3,
   "id": "11eb47f5",
   "metadata": {},
   "outputs": [],
   "source": [
    "with open(r'C:\\Users\\mosae\\Desktop\\USD\\AAI_520\\Owl_Creek.txt','r') as file:\n",
    "    data = file.read()"
   ]
  },
  {
   "cell_type": "code",
   "execution_count": 4,
   "id": "8c0213e8",
   "metadata": {},
   "outputs": [],
   "source": [
    "doc = nlp(data)"
   ]
  },
  {
   "cell_type": "code",
   "execution_count": 5,
   "id": "4699e3c5",
   "metadata": {},
   "outputs": [
    {
     "data": {
      "text/plain": [
       "\n",
       "AN OCCURRENCE AT OWL CREEK BRIDGE\n",
       "\n",
       "\n",
       "by Ambrose Bierce\n",
       "\n",
       "I\n",
       "\n",
       "\n",
       "\n",
       "A man stood upon a railroad bridge in northern Alabama, looking down\n",
       "into the swift water twenty feet below."
      ]
     },
     "execution_count": 5,
     "metadata": {},
     "output_type": "execute_result"
    }
   ],
   "source": [
    "doc[:36]"
   ]
  },
  {
   "cell_type": "markdown",
   "id": "b0fb3f45",
   "metadata": {},
   "source": [
    "#### How many tokens are contained in the file?"
   ]
  },
  {
   "cell_type": "code",
   "execution_count": 6,
   "id": "9c902bb9",
   "metadata": {},
   "outputs": [
    {
     "data": {
      "text/plain": [
       "4836"
      ]
     },
     "execution_count": 6,
     "metadata": {},
     "output_type": "execute_result"
    }
   ],
   "source": [
    "len(doc)"
   ]
  },
  {
   "cell_type": "markdown",
   "id": "9ebca96b",
   "metadata": {},
   "source": [
    "#### 3. How many sentences are contained in the file"
   ]
  },
  {
   "cell_type": "code",
   "execution_count": 7,
   "id": "6e30a3f4",
   "metadata": {},
   "outputs": [
    {
     "data": {
      "text/plain": [
       "209"
      ]
     },
     "execution_count": 7,
     "metadata": {},
     "output_type": "execute_result"
    }
   ],
   "source": [
    "doc_sentences = []\n",
    "\n",
    "for sen in doc.sents:\n",
    "    if sen.text.isspace() == False:\n",
    "        doc_sentences.append(sen)\n",
    "        \n",
    "        \n",
    "len(doc_sentences)"
   ]
  },
  {
   "cell_type": "markdown",
   "id": "c0aafab2",
   "metadata": {},
   "source": [
    "### 4. print the second sentence in the document"
   ]
  },
  {
   "cell_type": "code",
   "execution_count": 8,
   "id": "f8241183",
   "metadata": {},
   "outputs": [
    {
     "data": {
      "text/plain": [
       "A man stood upon a railroad bridge in northern Alabama, looking down\n",
       "into the swift water twenty feet below."
      ]
     },
     "execution_count": 8,
     "metadata": {},
     "output_type": "execute_result"
    }
   ],
   "source": [
    "second_sentence = doc_sentences[1]\n",
    "\n",
    "second_sentence"
   ]
  },
  {
   "cell_type": "markdown",
   "id": "4151755f",
   "metadata": {},
   "source": [
    "### 5. For each token in the sentence above, print its text, POS tag, dep tag, and lemma"
   ]
  },
  {
   "cell_type": "code",
   "execution_count": 9,
   "id": "259cdbae",
   "metadata": {},
   "outputs": [
    {
     "name": "stdout",
     "output_type": "stream",
     "text": [
      "A DET det a\n",
      "man NOUN nsubj man\n",
      "stood VERB ROOT stand\n",
      "upon SCONJ prep upon\n",
      "a DET det a\n",
      "railroad NOUN compound railroad\n",
      "bridge NOUN pobj bridge\n",
      "in ADP prep in\n",
      "northern ADJ amod northern\n",
      "Alabama PROPN pobj Alabama\n",
      ", PUNCT punct ,\n",
      "looking VERB advcl look\n",
      "down ADP prep down\n",
      "\n",
      " SPACE pobj \n",
      "\n",
      "into ADP prep into\n",
      "the DET det the\n",
      "swift ADJ amod swift\n",
      "water NOUN pobj water\n",
      "twenty NUM nummod twenty\n",
      "feet NOUN npadvmod foot\n",
      "below ADV advmod below\n",
      ". PUNCT punct .\n"
     ]
    }
   ],
   "source": [
    "for token in second_sentence:\n",
    "    print( token.text, token.pos_, token.dep_, token.lemma_)"
   ]
  },
  {
   "cell_type": "code",
   "execution_count": 10,
   "id": "a51a576a",
   "metadata": {},
   "outputs": [
    {
     "name": "stdout",
     "output_type": "stream",
     "text": [
      "A          DET        det        a         \n",
      "man        NOUN       nsubj      man       \n",
      "stood      VERB       ROOT       stand     \n",
      "upon       SCONJ      prep       upon      \n",
      "a          DET        det        a         \n",
      "railroad   NOUN       compound   railroad  \n",
      "bridge     NOUN       pobj       bridge    \n",
      "in         ADP        prep       in        \n",
      "northern   ADJ        amod       northern  \n",
      "Alabama    PROPN      pobj       Alabama   \n",
      ",          PUNCT      punct      ,         \n",
      "looking    VERB       advcl      look      \n",
      "down       ADP        prep       down      \n",
      "\n",
      "          SPACE      pobj       \n",
      "         \n",
      "into       ADP        prep       into      \n",
      "the        DET        det        the       \n",
      "swift      ADJ        amod       swift     \n",
      "water      NOUN       pobj       water     \n",
      "twenty     NUM        nummod     twenty    \n",
      "feet       NOUN       npadvmod   foot      \n",
      "below      ADV        advmod     below     \n",
      ".          PUNCT      punct      .         \n"
     ]
    }
   ],
   "source": [
    "for token in second_sentence:\n",
    "    print(\"{: <10} {: <10} {: <10} {: <10}\".format(token.text, token.pos_, token.dep_, token.lemma_))"
   ]
  },
  {
   "cell_type": "code",
   "execution_count": 11,
   "id": "875924b2",
   "metadata": {},
   "outputs": [
    {
     "data": {
      "text/html": [
       "<div>\n",
       "<style scoped>\n",
       "    .dataframe tbody tr th:only-of-type {\n",
       "        vertical-align: middle;\n",
       "    }\n",
       "\n",
       "    .dataframe tbody tr th {\n",
       "        vertical-align: top;\n",
       "    }\n",
       "\n",
       "    .dataframe thead th {\n",
       "        text-align: right;\n",
       "    }\n",
       "</style>\n",
       "<table border=\"1\" class=\"dataframe\">\n",
       "  <thead>\n",
       "    <tr style=\"text-align: right;\">\n",
       "      <th></th>\n",
       "      <th>POS_TAG</th>\n",
       "      <th>DEP_TAG</th>\n",
       "      <th>LEMMA</th>\n",
       "    </tr>\n",
       "    <tr>\n",
       "      <th>TEXT</th>\n",
       "      <th></th>\n",
       "      <th></th>\n",
       "      <th></th>\n",
       "    </tr>\n",
       "  </thead>\n",
       "  <tbody>\n",
       "    <tr>\n",
       "      <th>A</th>\n",
       "      <td>DET</td>\n",
       "      <td>det</td>\n",
       "      <td>a</td>\n",
       "    </tr>\n",
       "    <tr>\n",
       "      <th>man</th>\n",
       "      <td>NOUN</td>\n",
       "      <td>nsubj</td>\n",
       "      <td>man</td>\n",
       "    </tr>\n",
       "    <tr>\n",
       "      <th>stood</th>\n",
       "      <td>VERB</td>\n",
       "      <td>ROOT</td>\n",
       "      <td>stand</td>\n",
       "    </tr>\n",
       "    <tr>\n",
       "      <th>upon</th>\n",
       "      <td>SCONJ</td>\n",
       "      <td>prep</td>\n",
       "      <td>upon</td>\n",
       "    </tr>\n",
       "    <tr>\n",
       "      <th>a</th>\n",
       "      <td>DET</td>\n",
       "      <td>det</td>\n",
       "      <td>a</td>\n",
       "    </tr>\n",
       "    <tr>\n",
       "      <th>railroad</th>\n",
       "      <td>NOUN</td>\n",
       "      <td>compound</td>\n",
       "      <td>railroad</td>\n",
       "    </tr>\n",
       "    <tr>\n",
       "      <th>bridge</th>\n",
       "      <td>NOUN</td>\n",
       "      <td>pobj</td>\n",
       "      <td>bridge</td>\n",
       "    </tr>\n",
       "    <tr>\n",
       "      <th>in</th>\n",
       "      <td>ADP</td>\n",
       "      <td>prep</td>\n",
       "      <td>in</td>\n",
       "    </tr>\n",
       "    <tr>\n",
       "      <th>northern</th>\n",
       "      <td>ADJ</td>\n",
       "      <td>amod</td>\n",
       "      <td>northern</td>\n",
       "    </tr>\n",
       "    <tr>\n",
       "      <th>Alabama</th>\n",
       "      <td>PROPN</td>\n",
       "      <td>pobj</td>\n",
       "      <td>Alabama</td>\n",
       "    </tr>\n",
       "    <tr>\n",
       "      <th>,</th>\n",
       "      <td>PUNCT</td>\n",
       "      <td>punct</td>\n",
       "      <td>,</td>\n",
       "    </tr>\n",
       "    <tr>\n",
       "      <th>looking</th>\n",
       "      <td>VERB</td>\n",
       "      <td>advcl</td>\n",
       "      <td>look</td>\n",
       "    </tr>\n",
       "    <tr>\n",
       "      <th>down</th>\n",
       "      <td>ADP</td>\n",
       "      <td>prep</td>\n",
       "      <td>down</td>\n",
       "    </tr>\n",
       "    <tr>\n",
       "      <th>\\n</th>\n",
       "      <td>SPACE</td>\n",
       "      <td>pobj</td>\n",
       "      <td>\\n</td>\n",
       "    </tr>\n",
       "    <tr>\n",
       "      <th>into</th>\n",
       "      <td>ADP</td>\n",
       "      <td>prep</td>\n",
       "      <td>into</td>\n",
       "    </tr>\n",
       "    <tr>\n",
       "      <th>the</th>\n",
       "      <td>DET</td>\n",
       "      <td>det</td>\n",
       "      <td>the</td>\n",
       "    </tr>\n",
       "    <tr>\n",
       "      <th>swift</th>\n",
       "      <td>ADJ</td>\n",
       "      <td>amod</td>\n",
       "      <td>swift</td>\n",
       "    </tr>\n",
       "    <tr>\n",
       "      <th>water</th>\n",
       "      <td>NOUN</td>\n",
       "      <td>pobj</td>\n",
       "      <td>water</td>\n",
       "    </tr>\n",
       "    <tr>\n",
       "      <th>twenty</th>\n",
       "      <td>NUM</td>\n",
       "      <td>nummod</td>\n",
       "      <td>twenty</td>\n",
       "    </tr>\n",
       "    <tr>\n",
       "      <th>feet</th>\n",
       "      <td>NOUN</td>\n",
       "      <td>npadvmod</td>\n",
       "      <td>foot</td>\n",
       "    </tr>\n",
       "    <tr>\n",
       "      <th>below</th>\n",
       "      <td>ADV</td>\n",
       "      <td>advmod</td>\n",
       "      <td>below</td>\n",
       "    </tr>\n",
       "    <tr>\n",
       "      <th>.</th>\n",
       "      <td>PUNCT</td>\n",
       "      <td>punct</td>\n",
       "      <td>.</td>\n",
       "    </tr>\n",
       "  </tbody>\n",
       "</table>\n",
       "</div>"
      ],
      "text/plain": [
       "         POS_TAG   DEP_TAG     LEMMA\n",
       "TEXT                                \n",
       "A            DET       det         a\n",
       "man         NOUN     nsubj       man\n",
       "stood       VERB      ROOT     stand\n",
       "upon       SCONJ      prep      upon\n",
       "a            DET       det         a\n",
       "railroad    NOUN  compound  railroad\n",
       "bridge      NOUN      pobj    bridge\n",
       "in           ADP      prep        in\n",
       "northern     ADJ      amod  northern\n",
       "Alabama    PROPN      pobj   Alabama\n",
       ",          PUNCT     punct         ,\n",
       "looking     VERB     advcl      look\n",
       "down         ADP      prep      down\n",
       "\\n         SPACE      pobj        \\n\n",
       "into         ADP      prep      into\n",
       "the          DET       det       the\n",
       "swift        ADJ      amod     swift\n",
       "water       NOUN      pobj     water\n",
       "twenty       NUM    nummod    twenty\n",
       "feet        NOUN  npadvmod      foot\n",
       "below        ADV    advmod     below\n",
       ".          PUNCT     punct         ."
      ]
     },
     "execution_count": 11,
     "metadata": {},
     "output_type": "execute_result"
    }
   ],
   "source": [
    "dicts ={\"TEXT\" : [token.text for token in second_sentence],\n",
    "       \"POS_TAG\":[token.pos_ for token in second_sentence],\n",
    "       \"DEP_TAG\":[token.dep_ for token in second_sentence],\n",
    "        \"LEMMA\":[token.lemma_ for token in second_sentence],}\n",
    "\n",
    "pd.DataFrame.from_dict(dicts, orient='columns').set_index('TEXT')"
   ]
  },
  {
   "cell_type": "markdown",
   "id": "38f1c08e",
   "metadata": {},
   "source": [
    "### 6. Write a matcher called 'Swimming' that finds both occurrences of the phrase \"swimming vigorouslt\" in the text"
   ]
  },
  {
   "cell_type": "code",
   "execution_count": 12,
   "id": "47a46c3e",
   "metadata": {},
   "outputs": [],
   "source": [
    "# Import the Matcher\n",
    "from spacy.matcher import Matcher, PhraseMatcher\n",
    "matcher = Matcher(nlp.vocab)"
   ]
  },
  {
   "cell_type": "code",
   "execution_count": 13,
   "id": "7edafb2b",
   "metadata": {},
   "outputs": [],
   "source": [
    "# Create a pattern and add it to matcher \n",
    "pattern = [{\"LOWER\":\"swimming\"},{\"IS_SPACE\":True},{\"LOWER\":\"vigorously\"}]\n",
    "matcher.add(\"swimming vigorously\",[pattern])"
   ]
  },
  {
   "cell_type": "code",
   "execution_count": 14,
   "id": "261a70b0",
   "metadata": {},
   "outputs": [],
   "source": [
    "# creat a list of matcher called \"found_matcher\" and print the list\n",
    "\n",
    "found_matcher =[]\n",
    "Swimming = matcher(doc)\n",
    "\n",
    "for match_id, start, end in Swimming:  \n",
    "    srting_id = doc.vocab.strings[match_id]\n",
    "    found_matcher.append((match_id, start, end))"
   ]
  },
  {
   "cell_type": "code",
   "execution_count": 15,
   "id": "615313f8",
   "metadata": {},
   "outputs": [
    {
     "data": {
      "text/plain": [
       "[(473010745751028843, 1275, 1278), (473010745751028843, 3610, 3613)]"
      ]
     },
     "execution_count": 15,
     "metadata": {},
     "output_type": "execute_result"
    }
   ],
   "source": [
    "found_matcher"
   ]
  },
  {
   "cell_type": "markdown",
   "id": "2184ea9c",
   "metadata": {},
   "source": [
    "### 7. Print the test surrounding each found match"
   ]
  },
  {
   "cell_type": "code",
   "execution_count": 16,
   "id": "4eba6a2a",
   "metadata": {},
   "outputs": [
    {
     "data": {
      "text/plain": [
       "the stream.  By diving I could evade the bullets and, swimming\n",
       "vigorously, reach the bank, take to the woods and get away home"
      ]
     },
     "execution_count": 16,
     "metadata": {},
     "output_type": "execute_result"
    }
   ],
   "source": [
    "# first texk is \n",
    "doc[found_matcher[0][1]-13:found_matcher[0][2] +13]"
   ]
  },
  {
   "cell_type": "code",
   "execution_count": 17,
   "id": "585a6e26",
   "metadata": {},
   "outputs": [
    {
     "data": {
      "text/plain": [
       "The hunted man saw all this over his shoulder; he was now swimming\n",
       "vigorously with the current.  His brain was as energetic as his arms"
      ]
     },
     "execution_count": 17,
     "metadata": {},
     "output_type": "execute_result"
    }
   ],
   "source": [
    "# second texk is\n",
    "doc[found_matcher[1][1]-13:found_matcher[1][2] +13]"
   ]
  },
  {
   "cell_type": "markdown",
   "id": "24e14813",
   "metadata": {},
   "source": [
    "## EXTRA CREDIT\n",
    "\n",
    "### Print the sentence that contains each found match"
   ]
  },
  {
   "cell_type": "code",
   "execution_count": 18,
   "id": "4fdd3d21",
   "metadata": {},
   "outputs": [
    {
     "name": "stdout",
     "output_type": "stream",
     "text": [
      "\u001b[1mthe First sentence is :-\u001b[0m \n",
      "   By diving I could evade the bullets and, swimming\n",
      "vigorously, reach the bank, take to the woods and get away home. \n",
      "+--------------------------------------------------+\n",
      "\u001b[1mthe second sentence is :-\u001b[0m \n",
      " The hunted man saw all this over his shoulder; he was now swimming\n",
      "vigorously with the current.\n"
     ]
    }
   ],
   "source": [
    "# Create a pattern and add it to matcher \n",
    "pattern = [{\"LOWER\":\"swimming\"},{\"IS_SPACE\":True},{\"LOWER\":\"vigorously\"}]\n",
    "matcher.add(\"swimming vigorously\",[pattern])\n",
    "\n",
    "count = 0\n",
    "\n",
    "for sent in doc.sents:\n",
    "    for match_id, start, end in matcher(sent): \n",
    "        srting_id = doc.vocab.strings[match_id]\n",
    "        if srting_id == 'swimming vigorously':\n",
    "            if count == 0:\n",
    "                print('\\033[1m' + 'the First sentence is :-' + '\\033[0m \\n ',sent.text ,\"\\n+--------------------------------------------------+\")\n",
    "                count+=1\n",
    "            else:\n",
    "                print('\\033[1m' + \"the second sentence is :-\"+ '\\033[0m \\n',sent.text)"
   ]
  },
  {
   "cell_type": "code",
   "execution_count": null,
   "id": "085df077",
   "metadata": {},
   "outputs": [],
   "source": []
  }
 ],
 "metadata": {
  "kernelspec": {
   "display_name": "Python 3",
   "language": "python",
   "name": "python3"
  },
  "language_info": {
   "codemirror_mode": {
    "name": "ipython",
    "version": 3
   },
   "file_extension": ".py",
   "mimetype": "text/x-python",
   "name": "python",
   "nbconvert_exporter": "python",
   "pygments_lexer": "ipython3",
   "version": "3.8.8"
  }
 },
 "nbformat": 4,
 "nbformat_minor": 5
}

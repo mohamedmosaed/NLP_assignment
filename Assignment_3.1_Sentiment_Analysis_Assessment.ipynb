{
 "cells": [
  {
   "cell_type": "markdown",
   "id": "ced60b4e",
   "metadata": {},
   "source": [
    "### Task #1: Perform vector arithmetic on your own words"
   ]
  },
  {
   "cell_type": "code",
   "execution_count": 1,
   "id": "3ad4832d",
   "metadata": {},
   "outputs": [],
   "source": [
    "import numpy as np\n",
    "import pandas as pd"
   ]
  },
  {
   "cell_type": "code",
   "execution_count": 2,
   "id": "788a877b",
   "metadata": {},
   "outputs": [],
   "source": [
    "# Import spaCy and load the language library. Remember to use a larger model!\n",
    "import spacy\n",
    "nlp = spacy.load('en_core_web_lg')"
   ]
  },
  {
   "cell_type": "code",
   "execution_count": 3,
   "id": "bf3e680f",
   "metadata": {},
   "outputs": [],
   "source": [
    "# choose the words you wish to comper, and obtain their vectors\n",
    "word1= nlp('blue').vector\n",
    "word2= nlp('car').vector\n",
    "word3= nlp('sky').vector\n"
   ]
  },
  {
   "cell_type": "code",
   "execution_count": 4,
   "id": "e88b8584",
   "metadata": {},
   "outputs": [],
   "source": [
    "# Import spatial and define a cosine_similarity function\n",
    "from scipy import spatial \n",
    "\n",
    "def cosine_similarity(x,y):\n",
    "    return 1-spatial.distance.cosine(x,y)"
   ]
  },
  {
   "cell_type": "code",
   "execution_count": 5,
   "id": "8828e203",
   "metadata": {},
   "outputs": [],
   "source": [
    "# Write an expression for vector arithmetic\n",
    "# For example: new_vector = word1 - word2 + word3 \n",
    "\n",
    "new_vector = word1 - word2 + word3"
   ]
  },
  {
   "cell_type": "code",
   "execution_count": 6,
   "id": "b0a437de",
   "metadata": {},
   "outputs": [],
   "source": [
    "# List the top ten closest vectors in the vocabulary to the result of the expression above\n",
    "new_vector_similarities = []\n",
    "\n",
    "for word in nlp.vocab:\n",
    "    if word.has_vector:\n",
    "        if word.is_lower:\n",
    "            if word.is_alpha:\n",
    "                similarity = cosine_similarity(new_vector, word.vector)\n",
    "                word = word.text\n",
    "                new_vector_similarities.append((word,similarity))\n",
    "                New_word_similar_df = pd.DataFrame(data =new_vector_similarities, columns= ['words', 'similarity'])\\\n",
    "                .sort_values(by = 'similarity', ascending=False, ignore_index=True)"
   ]
  },
  {
   "cell_type": "code",
   "execution_count": 7,
   "id": "b81d37c0",
   "metadata": {},
   "outputs": [
    {
     "data": {
      "text/html": [
       "<div>\n",
       "<style scoped>\n",
       "    .dataframe tbody tr th:only-of-type {\n",
       "        vertical-align: middle;\n",
       "    }\n",
       "\n",
       "    .dataframe tbody tr th {\n",
       "        vertical-align: top;\n",
       "    }\n",
       "\n",
       "    .dataframe thead th {\n",
       "        text-align: right;\n",
       "    }\n",
       "</style>\n",
       "<table border=\"1\" class=\"dataframe\">\n",
       "  <thead>\n",
       "    <tr style=\"text-align: right;\">\n",
       "      <th></th>\n",
       "      <th>words</th>\n",
       "      <th>similarity</th>\n",
       "    </tr>\n",
       "  </thead>\n",
       "  <tbody>\n",
       "    <tr>\n",
       "      <th>0</th>\n",
       "      <td>sky</td>\n",
       "      <td>0.751483</td>\n",
       "    </tr>\n",
       "    <tr>\n",
       "      <th>1</th>\n",
       "      <td>blue</td>\n",
       "      <td>0.716398</td>\n",
       "    </tr>\n",
       "    <tr>\n",
       "      <th>2</th>\n",
       "      <td>space</td>\n",
       "      <td>0.200920</td>\n",
       "    </tr>\n",
       "    <tr>\n",
       "      <th>3</th>\n",
       "      <td>lovin</td>\n",
       "      <td>0.198213</td>\n",
       "    </tr>\n",
       "    <tr>\n",
       "      <th>4</th>\n",
       "      <td>i</td>\n",
       "      <td>0.196288</td>\n",
       "    </tr>\n",
       "    <tr>\n",
       "      <th>5</th>\n",
       "      <td>nothin</td>\n",
       "      <td>0.188767</td>\n",
       "    </tr>\n",
       "    <tr>\n",
       "      <th>6</th>\n",
       "      <td>she</td>\n",
       "      <td>0.168131</td>\n",
       "    </tr>\n",
       "    <tr>\n",
       "      <th>7</th>\n",
       "      <td>sha</td>\n",
       "      <td>0.166575</td>\n",
       "    </tr>\n",
       "    <tr>\n",
       "      <th>8</th>\n",
       "      <td>it</td>\n",
       "      <td>0.165324</td>\n",
       "    </tr>\n",
       "    <tr>\n",
       "      <th>9</th>\n",
       "      <td>there</td>\n",
       "      <td>0.164121</td>\n",
       "    </tr>\n",
       "  </tbody>\n",
       "</table>\n",
       "</div>"
      ],
      "text/plain": [
       "    words  similarity\n",
       "0     sky    0.751483\n",
       "1    blue    0.716398\n",
       "2   space    0.200920\n",
       "3   lovin    0.198213\n",
       "4       i    0.196288\n",
       "5  nothin    0.188767\n",
       "6     she    0.168131\n",
       "7     sha    0.166575\n",
       "8      it    0.165324\n",
       "9   there    0.164121"
      ]
     },
     "execution_count": 7,
     "metadata": {},
     "output_type": "execute_result"
    }
   ],
   "source": [
    "# List the top ten closest vectors in the vocabulary to the result of the expression above\n",
    "New_word_similar_df.head(10)"
   ]
  },
  {
   "cell_type": "code",
   "execution_count": 8,
   "id": "7aa67157",
   "metadata": {},
   "outputs": [
    {
     "name": "stdout",
     "output_type": "stream",
     "text": [
      "1: sky \n",
      "\n",
      "2: blue \n",
      "\n",
      "3: space \n",
      "\n",
      "4: lovin \n",
      "\n",
      "5: i \n",
      "\n",
      "6: nothin \n",
      "\n",
      "7: she \n",
      "\n",
      "8: sha \n",
      "\n",
      "9: it \n",
      "\n",
      "10: there \n",
      "\n"
     ]
    }
   ],
   "source": [
    "count = 1\n",
    "for words in New_word_similar_df['words'][:10]:\n",
    "    print(f'{count}: {words} \\n')\n",
    "    count += 1\n",
    "    "
   ]
  },
  {
   "cell_type": "markdown",
   "id": "e0314ccf",
   "metadata": {},
   "source": [
    "#### CHALLENGE: write a function that takes in 3 strings, performs a-b+c arthmetic, and return a top-ten result"
   ]
  },
  {
   "cell_type": "code",
   "execution_count": 9,
   "id": "63e41da9",
   "metadata": {},
   "outputs": [],
   "source": [
    "def vector_math(a,b,c):\n",
    "    a = nlp.vocab[a].vector\n",
    "    b = nlp.vocab[b].vector\n",
    "    c = nlp.vocab[c].vector\n",
    "    \n",
    "    new_vector_math = a - b + c\n",
    "    \n",
    "    tob_ten_result = []\n",
    "    \n",
    "    for word in nlp.vocab:\n",
    "        if word.has_vector:\n",
    "            if word.is_lower:\n",
    "                if word.is_alpha:\n",
    "                    similarity = 1- spatial.distance.cosine(new_vector_math,word.vector)\n",
    "                    word = word.text\n",
    "                    tob_ten_result.append((word,similarity))\n",
    "                    tob_ten_result = sorted(tob_ten_result, key=lambda x: x[1], reverse=True)\n",
    "    \n",
    "    return tob_ten_result[:10]"
   ]
  },
  {
   "cell_type": "code",
   "execution_count": 10,
   "id": "28c99225",
   "metadata": {},
   "outputs": [
    {
     "data": {
      "text/plain": [
       "[('king', 0.8024259805679321),\n",
       " ('woman', 0.5150813460350037),\n",
       " ('she', 0.3956184387207031),\n",
       " ('who', 0.3159499764442444),\n",
       " ('when', 0.28596794605255127),\n",
       " ('dare', 0.2826058268547058),\n",
       " ('was', 0.262269526720047),\n",
       " ('not', 0.25664204359054565),\n",
       " ('or', 0.25568312406539917),\n",
       " ('had', 0.2540704905986786)]"
      ]
     },
     "execution_count": 10,
     "metadata": {},
     "output_type": "execute_result"
    }
   ],
   "source": [
    "# Test the function on known words:\n",
    "\n",
    "vector_math('king', 'man', 'woman')"
   ]
  },
  {
   "cell_type": "markdown",
   "id": "81366a8f",
   "metadata": {},
   "source": [
    "### Task #2: perform VADER Sentiment analysis on ypur own review"
   ]
  },
  {
   "cell_type": "code",
   "execution_count": 11,
   "id": "8177e2a4",
   "metadata": {},
   "outputs": [],
   "source": [
    "# Import SentimentIntensityAnalyzer and creat an sid object\n",
    "\n",
    "from vaderSentiment.vaderSentiment import SentimentIntensityAnalyzer\n",
    "\n",
    "sid = SentimentIntensityAnalyzer()"
   ]
  },
  {
   "cell_type": "code",
   "execution_count": 12,
   "id": "71533259",
   "metadata": {},
   "outputs": [],
   "source": [
    "# write a review as one continuous string (multiple sentences are ok)\n",
    "\n",
    "review = 'I bought this item as a Christmas gift and received it very prompt but there was a problem . i did not\\\n",
    "bother to check the iPad which was a major mistake. they opened it on christmas and it would not turn on. The iPad\\\n",
    "would not hold a charge it would charge enough to turn on and then turn back off bc of low battery. Amazon was very\\\n",
    "helpful and help me through the return process to receive my funds.'"
   ]
  },
  {
   "cell_type": "code",
   "execution_count": 13,
   "id": "e9baf089",
   "metadata": {},
   "outputs": [
    {
     "data": {
      "text/plain": [
       "{'neg': 0.109, 'neu': 0.806, 'pos': 0.085, 'compound': -0.4921}"
      ]
     },
     "execution_count": 13,
     "metadata": {},
     "output_type": "execute_result"
    }
   ],
   "source": [
    "# Obtain the sid scores for your review\n",
    "sid.polarity_scores(review)"
   ]
  },
  {
   "cell_type": "markdown",
   "id": "c98350a2",
   "metadata": {},
   "source": [
    "### CHALLENGE: Write a function that takes in a review and returns a score of \"Positive\", \"Negative\" or \"Neutral\""
   ]
  },
  {
   "cell_type": "code",
   "execution_count": 14,
   "id": "9377b80f",
   "metadata": {},
   "outputs": [],
   "source": [
    "def review_rating (string):\n",
    "    \n",
    "    sid_object = SentimentIntensityAnalyzer()\n",
    "    \n",
    "    score_review = sid_object.polarity_scores(review)\n",
    "    \n",
    "    return print(f\"Positive Score = {score_review['pos']}\\nNegative Score = {score_review['neg']}\\nNeutral Score = {score_review['neu']}\")"
   ]
  },
  {
   "cell_type": "code",
   "execution_count": 15,
   "id": "3496e718",
   "metadata": {},
   "outputs": [
    {
     "name": "stdout",
     "output_type": "stream",
     "text": [
      "Positive Score = 0.085\n",
      "Negative Score = 0.109\n",
      "Neutral Score = 0.806\n"
     ]
    }
   ],
   "source": [
    "# Test the function on your review above:\n",
    "review_rating(review)"
   ]
  },
  {
   "cell_type": "code",
   "execution_count": null,
   "id": "bac10e97",
   "metadata": {},
   "outputs": [],
   "source": []
  }
 ],
 "metadata": {
  "kernelspec": {
   "display_name": "Python 3",
   "language": "python",
   "name": "python3"
  },
  "language_info": {
   "codemirror_mode": {
    "name": "ipython",
    "version": 3
   },
   "file_extension": ".py",
   "mimetype": "text/x-python",
   "name": "python",
   "nbconvert_exporter": "python",
   "pygments_lexer": "ipython3",
   "version": "3.8.8"
  }
 },
 "nbformat": 4,
 "nbformat_minor": 5
}

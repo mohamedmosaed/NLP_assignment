{
 "cells": [
  {
   "cell_type": "code",
   "execution_count": 1,
   "id": "729b7c2e",
   "metadata": {},
   "outputs": [],
   "source": [
    "import nltk"
   ]
  },
  {
   "cell_type": "code",
   "execution_count": 2,
   "id": "a5012d7e",
   "metadata": {},
   "outputs": [],
   "source": [
    "import spacy\n",
    "from nltk.tree import Tree\n",
    "\n",
    "spacy_nlp = spacy.load(\"en_core_web_sm\")\n",
    "\n",
    "def nltk_spacy_tree(sent):\n",
    "    \"\"\"\n",
    "    Visualize the SpaCy dependency tree with nltk.tree\n",
    "    \"\"\"\n",
    "    doc = spacy_nlp(sent)\n",
    "    def token_format(token):\n",
    "        return \" \".join([token.orth_, token.tag_, token.dep_])\n",
    "\n",
    "    def to_nltk_tree(node):\n",
    "        if node.n_lefts + node.n_rights > 0:\n",
    "            return Tree(token_format(node),\n",
    "                       [to_nltk_tree(child) \n",
    "                        for child in node.children]\n",
    "                   )\n",
    "        else:\n",
    "            return token_format(node)\n",
    "\n",
    "    tree = [to_nltk_tree(sent.root) for sent in doc.sents]\n",
    "    # The first item in the list is the full tree\n",
    "    tree[0].draw()"
   ]
  },
  {
   "cell_type": "code",
   "execution_count": 3,
   "id": "7cbdb5b7",
   "metadata": {},
   "outputs": [],
   "source": [
    "message = 'time flys like an arrow'\n",
    "nltk_spacy_tree(message)"
   ]
  }
 ],
 "metadata": {
  "kernelspec": {
   "display_name": "Python 3",
   "language": "python",
   "name": "python3"
  },
  "language_info": {
   "codemirror_mode": {
    "name": "ipython",
    "version": 3
   },
   "file_extension": ".py",
   "mimetype": "text/x-python",
   "name": "python",
   "nbconvert_exporter": "python",
   "pygments_lexer": "ipython3",
   "version": "3.8.8"
  }
 },
 "nbformat": 4,
 "nbformat_minor": 5
}
